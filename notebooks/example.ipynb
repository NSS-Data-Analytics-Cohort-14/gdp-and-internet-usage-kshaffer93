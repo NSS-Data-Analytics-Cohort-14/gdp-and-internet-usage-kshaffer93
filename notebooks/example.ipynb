{
 "cells": [
  {
   "cell_type": "markdown",
   "id": "804ac698-1c61-4830-975d-38d417013034",
   "metadata": {},
   "source": [
    "## This is a example of how you will be doing projects in python.\n",
    "### Use markdown cells -OR- comments in cells to place AT LEAST the question number you are working on. "
   ]
  },
  {
   "cell_type": "markdown",
   "id": "90123210-b670-4d62-bbda-010eeac5dba5",
   "metadata": {},
   "source": [
    "3.\tImport the required packages"
   ]
  },
  {
   "cell_type": "code",
   "execution_count": 3,
   "id": "297b1e92-5e76-4e59-8085-d1ac23ff1c4f",
   "metadata": {},
   "outputs": [],
   "source": [
    "import pandas as pd\n",
    "import numpy as np\n",
    "import matplotlib.pyplot as plt\n",
    "import seaborn as sns"
   ]
  },
  {
   "cell_type": "markdown",
   "id": "3f81942c-9dbe-43e8-90fa-ba3e6be8389a",
   "metadata": {},
   "source": [
    "4. Using the pandas `read_csv()` method, read the GDP dataset into your notebook as a DataFrame called `gdp_df`. Take a look at the first few and last few rows to familiarize yourself with what is contained in this dataset."
   ]
  },
  {
   "cell_type": "code",
   "execution_count": 5,
   "id": "9258fe6d-6afa-462f-8197-c484f97cf4c7",
   "metadata": {},
   "outputs": [],
   "source": [
    "gdp_df = pd.read_csv('../data/gdp_percapita.csv')"
   ]
  },
  {
   "cell_type": "code",
   "execution_count": 6,
   "id": "b924fd27-092c-43f9-8ddb-0e1c74dc87bc",
   "metadata": {},
   "outputs": [
    {
     "data": {
      "text/html": [
       "<div>\n",
       "<style scoped>\n",
       "    .dataframe tbody tr th:only-of-type {\n",
       "        vertical-align: middle;\n",
       "    }\n",
       "\n",
       "    .dataframe tbody tr th {\n",
       "        vertical-align: top;\n",
       "    }\n",
       "\n",
       "    .dataframe thead th {\n",
       "        text-align: right;\n",
       "    }\n",
       "</style>\n",
       "<table border=\"1\" class=\"dataframe\">\n",
       "  <thead>\n",
       "    <tr style=\"text-align: right;\">\n",
       "      <th></th>\n",
       "      <th>Country or Area</th>\n",
       "      <th>Year</th>\n",
       "      <th>Value</th>\n",
       "      <th>Value Footnotes</th>\n",
       "    </tr>\n",
       "  </thead>\n",
       "  <tbody>\n",
       "    <tr>\n",
       "      <th>0</th>\n",
       "      <td>Afghanistan</td>\n",
       "      <td>2023</td>\n",
       "      <td>1992.424394</td>\n",
       "      <td>NaN</td>\n",
       "    </tr>\n",
       "    <tr>\n",
       "      <th>1</th>\n",
       "      <td>Afghanistan</td>\n",
       "      <td>2022</td>\n",
       "      <td>1981.710168</td>\n",
       "      <td>NaN</td>\n",
       "    </tr>\n",
       "    <tr>\n",
       "      <th>2</th>\n",
       "      <td>Afghanistan</td>\n",
       "      <td>2021</td>\n",
       "      <td>2144.166570</td>\n",
       "      <td>NaN</td>\n",
       "    </tr>\n",
       "    <tr>\n",
       "      <th>3</th>\n",
       "      <td>Afghanistan</td>\n",
       "      <td>2020</td>\n",
       "      <td>2769.685745</td>\n",
       "      <td>NaN</td>\n",
       "    </tr>\n",
       "    <tr>\n",
       "      <th>4</th>\n",
       "      <td>Afghanistan</td>\n",
       "      <td>2019</td>\n",
       "      <td>2927.245144</td>\n",
       "      <td>NaN</td>\n",
       "    </tr>\n",
       "  </tbody>\n",
       "</table>\n",
       "</div>"
      ],
      "text/plain": [
       "  Country or Area  Year        Value  Value Footnotes\n",
       "0     Afghanistan  2023  1992.424394              NaN\n",
       "1     Afghanistan  2022  1981.710168              NaN\n",
       "2     Afghanistan  2021  2144.166570              NaN\n",
       "3     Afghanistan  2020  2769.685745              NaN\n",
       "4     Afghanistan  2019  2927.245144              NaN"
      ]
     },
     "execution_count": 6,
     "metadata": {},
     "output_type": "execute_result"
    }
   ],
   "source": [
    "gdp_df.head()"
   ]
  },
  {
   "cell_type": "code",
   "execution_count": 7,
   "id": "e4c5a6f5-8453-48d5-8d25-1bc3fd217a02",
   "metadata": {},
   "outputs": [
    {
     "data": {
      "text/html": [
       "<div>\n",
       "<style scoped>\n",
       "    .dataframe tbody tr th:only-of-type {\n",
       "        vertical-align: middle;\n",
       "    }\n",
       "\n",
       "    .dataframe tbody tr th {\n",
       "        vertical-align: top;\n",
       "    }\n",
       "\n",
       "    .dataframe thead th {\n",
       "        text-align: right;\n",
       "    }\n",
       "</style>\n",
       "<table border=\"1\" class=\"dataframe\">\n",
       "  <thead>\n",
       "    <tr style=\"text-align: right;\">\n",
       "      <th></th>\n",
       "      <th>Country or Area</th>\n",
       "      <th>Year</th>\n",
       "      <th>Value</th>\n",
       "      <th>Value Footnotes</th>\n",
       "    </tr>\n",
       "  </thead>\n",
       "  <tbody>\n",
       "    <tr>\n",
       "      <th>8214</th>\n",
       "      <td>Zimbabwe</td>\n",
       "      <td>1994</td>\n",
       "      <td>3965.730986</td>\n",
       "      <td>NaN</td>\n",
       "    </tr>\n",
       "    <tr>\n",
       "      <th>8215</th>\n",
       "      <td>Zimbabwe</td>\n",
       "      <td>1993</td>\n",
       "      <td>3634.750494</td>\n",
       "      <td>NaN</td>\n",
       "    </tr>\n",
       "    <tr>\n",
       "      <th>8216</th>\n",
       "      <td>Zimbabwe</td>\n",
       "      <td>1992</td>\n",
       "      <td>3649.891947</td>\n",
       "      <td>NaN</td>\n",
       "    </tr>\n",
       "    <tr>\n",
       "      <th>8217</th>\n",
       "      <td>Zimbabwe</td>\n",
       "      <td>1991</td>\n",
       "      <td>4126.405247</td>\n",
       "      <td>NaN</td>\n",
       "    </tr>\n",
       "    <tr>\n",
       "      <th>8218</th>\n",
       "      <td>Zimbabwe</td>\n",
       "      <td>1990</td>\n",
       "      <td>4013.299059</td>\n",
       "      <td>NaN</td>\n",
       "    </tr>\n",
       "  </tbody>\n",
       "</table>\n",
       "</div>"
      ],
      "text/plain": [
       "     Country or Area  Year        Value  Value Footnotes\n",
       "8214        Zimbabwe  1994  3965.730986              NaN\n",
       "8215        Zimbabwe  1993  3634.750494              NaN\n",
       "8216        Zimbabwe  1992  3649.891947              NaN\n",
       "8217        Zimbabwe  1991  4126.405247              NaN\n",
       "8218        Zimbabwe  1990  4013.299059              NaN"
      ]
     },
     "execution_count": 7,
     "metadata": {},
     "output_type": "execute_result"
    }
   ],
   "source": [
    "gdp_df.tail()"
   ]
  },
  {
   "cell_type": "markdown",
   "id": "728cd96e-d530-4ddc-a298-b1218d1cdc93",
   "metadata": {},
   "source": [
    "5. How many rows and columns are in `gdp_df`? What are the data types of each column?"
   ]
  },
  {
   "cell_type": "code",
   "execution_count": 9,
   "id": "f14fe0c6-bc1a-4f2b-a736-ffacdfffbe05",
   "metadata": {},
   "outputs": [
    {
     "name": "stdout",
     "output_type": "stream",
     "text": [
      "<class 'pandas.core.frame.DataFrame'>\n",
      "RangeIndex: 8219 entries, 0 to 8218\n",
      "Data columns (total 4 columns):\n",
      " #   Column           Non-Null Count  Dtype  \n",
      "---  ------           --------------  -----  \n",
      " 0   Country or Area  8219 non-null   object \n",
      " 1   Year             8219 non-null   int64  \n",
      " 2   Value            8219 non-null   float64\n",
      " 3   Value Footnotes  0 non-null      float64\n",
      "dtypes: float64(2), int64(1), object(1)\n",
      "memory usage: 257.0+ KB\n"
     ]
    }
   ],
   "source": [
    "gdp_df.info()"
   ]
  },
  {
   "cell_type": "code",
   "execution_count": 10,
   "id": "309d534b-d51f-4a0a-96a1-f6d7f49fe316",
   "metadata": {},
   "outputs": [
    {
     "data": {
      "text/plain": [
       "(8219, 4)"
      ]
     },
     "execution_count": 10,
     "metadata": {},
     "output_type": "execute_result"
    }
   ],
   "source": [
    "gdp_df.shape"
   ]
  },
  {
   "cell_type": "markdown",
   "id": "6cc07c62-1a58-4460-affa-0635d5c2190e",
   "metadata": {},
   "source": [
    "6. Drop the `Value Footnotes` column and rename the remaining three to 'Country', 'Year', and 'GDP_Per_Capita'."
   ]
  },
  {
   "cell_type": "code",
   "execution_count": 12,
   "id": "92534803-32f6-44b0-a308-51aba463cdeb",
   "metadata": {},
   "outputs": [],
   "source": [
    "gdp_df = gdp_df.drop(['Value Footnotes'], axis = 1)"
   ]
  },
  {
   "cell_type": "code",
   "execution_count": 13,
   "id": "106bd33b-2f23-4992-b4fe-87314384f296",
   "metadata": {},
   "outputs": [],
   "source": [
    "gdp_df = gdp_df.set_axis(['Country', 'Year', 'GDP_Per_Capita'], axis=1)"
   ]
  },
  {
   "cell_type": "code",
   "execution_count": 14,
   "id": "a68a8a74-4274-4a22-a89b-6e5d280f24f8",
   "metadata": {},
   "outputs": [
    {
     "data": {
      "text/html": [
       "<div>\n",
       "<style scoped>\n",
       "    .dataframe tbody tr th:only-of-type {\n",
       "        vertical-align: middle;\n",
       "    }\n",
       "\n",
       "    .dataframe tbody tr th {\n",
       "        vertical-align: top;\n",
       "    }\n",
       "\n",
       "    .dataframe thead th {\n",
       "        text-align: right;\n",
       "    }\n",
       "</style>\n",
       "<table border=\"1\" class=\"dataframe\">\n",
       "  <thead>\n",
       "    <tr style=\"text-align: right;\">\n",
       "      <th></th>\n",
       "      <th>Country</th>\n",
       "      <th>Year</th>\n",
       "      <th>GDP_Per_Capita</th>\n",
       "    </tr>\n",
       "  </thead>\n",
       "  <tbody>\n",
       "    <tr>\n",
       "      <th>0</th>\n",
       "      <td>Afghanistan</td>\n",
       "      <td>2023</td>\n",
       "      <td>1992.424394</td>\n",
       "    </tr>\n",
       "    <tr>\n",
       "      <th>1</th>\n",
       "      <td>Afghanistan</td>\n",
       "      <td>2022</td>\n",
       "      <td>1981.710168</td>\n",
       "    </tr>\n",
       "    <tr>\n",
       "      <th>2</th>\n",
       "      <td>Afghanistan</td>\n",
       "      <td>2021</td>\n",
       "      <td>2144.166570</td>\n",
       "    </tr>\n",
       "    <tr>\n",
       "      <th>3</th>\n",
       "      <td>Afghanistan</td>\n",
       "      <td>2020</td>\n",
       "      <td>2769.685745</td>\n",
       "    </tr>\n",
       "    <tr>\n",
       "      <th>4</th>\n",
       "      <td>Afghanistan</td>\n",
       "      <td>2019</td>\n",
       "      <td>2927.245144</td>\n",
       "    </tr>\n",
       "  </tbody>\n",
       "</table>\n",
       "</div>"
      ],
      "text/plain": [
       "       Country  Year  GDP_Per_Capita\n",
       "0  Afghanistan  2023     1992.424394\n",
       "1  Afghanistan  2022     1981.710168\n",
       "2  Afghanistan  2021     2144.166570\n",
       "3  Afghanistan  2020     2769.685745\n",
       "4  Afghanistan  2019     2927.245144"
      ]
     },
     "execution_count": 14,
     "metadata": {},
     "output_type": "execute_result"
    }
   ],
   "source": [
    "gdp_df.head()"
   ]
  },
  {
   "cell_type": "markdown",
   "id": "4897afb0-4de3-4c60-8d1b-7ecec0dafddb",
   "metadata": {},
   "source": [
    "7. How many countries have data for all years? Which countries are missing many years of data? Look at the number of observations per year. What do you notice?"
   ]
  },
  {
   "cell_type": "code",
   "execution_count": 16,
   "id": "222d9aee-a6db-41d4-a504-7739b7856e54",
   "metadata": {},
   "outputs": [],
   "source": [
    "table = gdp_df.pivot_table(gdp_df, index =['Year', 'Country'])"
   ]
  },
  {
   "cell_type": "code",
   "execution_count": 17,
   "id": "a7e009b7-26f1-4ff1-9a4f-cf889923245f",
   "metadata": {},
   "outputs": [
    {
     "data": {
      "text/html": [
       "<div>\n",
       "<style scoped>\n",
       "    .dataframe tbody tr th:only-of-type {\n",
       "        vertical-align: middle;\n",
       "    }\n",
       "\n",
       "    .dataframe tbody tr th {\n",
       "        vertical-align: top;\n",
       "    }\n",
       "\n",
       "    .dataframe thead th {\n",
       "        text-align: right;\n",
       "    }\n",
       "</style>\n",
       "<table border=\"1\" class=\"dataframe\">\n",
       "  <thead>\n",
       "    <tr style=\"text-align: right;\">\n",
       "      <th></th>\n",
       "      <th></th>\n",
       "      <th>GDP_Per_Capita</th>\n",
       "    </tr>\n",
       "    <tr>\n",
       "      <th>Year</th>\n",
       "      <th>Country</th>\n",
       "      <th></th>\n",
       "    </tr>\n",
       "  </thead>\n",
       "  <tbody>\n",
       "    <tr>\n",
       "      <th rowspan=\"5\" valign=\"top\">1990</th>\n",
       "      <th>Africa Eastern and Southern</th>\n",
       "      <td>3386.854480</td>\n",
       "    </tr>\n",
       "    <tr>\n",
       "      <th>Africa Western and Central</th>\n",
       "      <td>3299.401375</td>\n",
       "    </tr>\n",
       "    <tr>\n",
       "      <th>Albania</th>\n",
       "      <td>5327.747458</td>\n",
       "    </tr>\n",
       "    <tr>\n",
       "      <th>Algeria</th>\n",
       "      <td>11728.545729</td>\n",
       "    </tr>\n",
       "    <tr>\n",
       "      <th>Andorra</th>\n",
       "      <td>50036.300776</td>\n",
       "    </tr>\n",
       "    <tr>\n",
       "      <th>...</th>\n",
       "      <th>...</th>\n",
       "      <td>...</td>\n",
       "    </tr>\n",
       "    <tr>\n",
       "      <th rowspan=\"5\" valign=\"top\">2023</th>\n",
       "      <th>Viet Nam</th>\n",
       "      <td>13491.879417</td>\n",
       "    </tr>\n",
       "    <tr>\n",
       "      <th>West Bank and Gaza</th>\n",
       "      <td>5313.097903</td>\n",
       "    </tr>\n",
       "    <tr>\n",
       "      <th>World</th>\n",
       "      <td>20604.121950</td>\n",
       "    </tr>\n",
       "    <tr>\n",
       "      <th>Zambia</th>\n",
       "      <td>3673.484197</td>\n",
       "    </tr>\n",
       "    <tr>\n",
       "      <th>Zimbabwe</th>\n",
       "      <td>3442.251327</td>\n",
       "    </tr>\n",
       "  </tbody>\n",
       "</table>\n",
       "<p>8219 rows × 1 columns</p>\n",
       "</div>"
      ],
      "text/plain": [
       "                                  GDP_Per_Capita\n",
       "Year Country                                    \n",
       "1990 Africa Eastern and Southern     3386.854480\n",
       "     Africa Western and Central      3299.401375\n",
       "     Albania                         5327.747458\n",
       "     Algeria                        11728.545729\n",
       "     Andorra                        50036.300776\n",
       "...                                          ...\n",
       "2023 Viet Nam                       13491.879417\n",
       "     West Bank and Gaza              5313.097903\n",
       "     World                          20604.121950\n",
       "     Zambia                          3673.484197\n",
       "     Zimbabwe                        3442.251327\n",
       "\n",
       "[8219 rows x 1 columns]"
      ]
     },
     "execution_count": 17,
     "metadata": {},
     "output_type": "execute_result"
    }
   ],
   "source": [
    "table"
   ]
  },
  {
   "cell_type": "code",
   "execution_count": 18,
   "id": "0172d928-5352-43e1-bb7a-2395b869c162",
   "metadata": {},
   "outputs": [
    {
     "data": {
      "text/html": [
       "<div>\n",
       "<style scoped>\n",
       "    .dataframe tbody tr th:only-of-type {\n",
       "        vertical-align: middle;\n",
       "    }\n",
       "\n",
       "    .dataframe tbody tr th {\n",
       "        vertical-align: top;\n",
       "    }\n",
       "\n",
       "    .dataframe thead th {\n",
       "        text-align: right;\n",
       "    }\n",
       "</style>\n",
       "<table border=\"1\" class=\"dataframe\">\n",
       "  <thead>\n",
       "    <tr style=\"text-align: right;\">\n",
       "      <th></th>\n",
       "      <th>Country</th>\n",
       "      <th>Year</th>\n",
       "    </tr>\n",
       "  </thead>\n",
       "  <tbody>\n",
       "    <tr>\n",
       "      <th>0</th>\n",
       "      <td>Afghanistan</td>\n",
       "      <td>24</td>\n",
       "    </tr>\n",
       "    <tr>\n",
       "      <th>1</th>\n",
       "      <td>Africa Eastern and Southern</td>\n",
       "      <td>34</td>\n",
       "    </tr>\n",
       "    <tr>\n",
       "      <th>2</th>\n",
       "      <td>Africa Western and Central</td>\n",
       "      <td>34</td>\n",
       "    </tr>\n",
       "    <tr>\n",
       "      <th>3</th>\n",
       "      <td>Albania</td>\n",
       "      <td>34</td>\n",
       "    </tr>\n",
       "    <tr>\n",
       "      <th>4</th>\n",
       "      <td>Algeria</td>\n",
       "      <td>34</td>\n",
       "    </tr>\n",
       "    <tr>\n",
       "      <th>...</th>\n",
       "      <td>...</td>\n",
       "      <td>...</td>\n",
       "    </tr>\n",
       "    <tr>\n",
       "      <th>242</th>\n",
       "      <td>Virgin Islands</td>\n",
       "      <td>21</td>\n",
       "    </tr>\n",
       "    <tr>\n",
       "      <th>243</th>\n",
       "      <td>West Bank and Gaza</td>\n",
       "      <td>30</td>\n",
       "    </tr>\n",
       "    <tr>\n",
       "      <th>244</th>\n",
       "      <td>World</td>\n",
       "      <td>34</td>\n",
       "    </tr>\n",
       "    <tr>\n",
       "      <th>245</th>\n",
       "      <td>Zambia</td>\n",
       "      <td>34</td>\n",
       "    </tr>\n",
       "    <tr>\n",
       "      <th>246</th>\n",
       "      <td>Zimbabwe</td>\n",
       "      <td>34</td>\n",
       "    </tr>\n",
       "  </tbody>\n",
       "</table>\n",
       "<p>247 rows × 2 columns</p>\n",
       "</div>"
      ],
      "text/plain": [
       "                         Country  Year\n",
       "0                    Afghanistan    24\n",
       "1    Africa Eastern and Southern    34\n",
       "2     Africa Western and Central    34\n",
       "3                        Albania    34\n",
       "4                        Algeria    34\n",
       "..                           ...   ...\n",
       "242               Virgin Islands    21\n",
       "243           West Bank and Gaza    30\n",
       "244                        World    34\n",
       "245                       Zambia    34\n",
       "246                     Zimbabwe    34\n",
       "\n",
       "[247 rows x 2 columns]"
      ]
     },
     "execution_count": 18,
     "metadata": {},
     "output_type": "execute_result"
    }
   ],
   "source": [
    "yearcounts = gdp_df.groupby(['Country'])['Year'].count()\n",
    "yearcounts.reset_index()"
   ]
  },
  {
   "cell_type": "code",
   "execution_count": 19,
   "id": "3cac9e69-a3e3-4bd7-9bda-ddc70980aaa4",
   "metadata": {},
   "outputs": [
    {
     "name": "stdout",
     "output_type": "stream",
     "text": [
      "Total number of unique years: 34\n"
     ]
    }
   ],
   "source": [
    "total_years = gdp_df['Year'].nunique()\n",
    "print(f\"Total number of unique years: {total_years}\")"
   ]
  },
  {
   "cell_type": "markdown",
   "id": "a5ad0af0-51c1-44d7-aad9-41585487e9e1",
   "metadata": {},
   "source": [
    "8. In this question, you're going to create some plots to show the distribution of GDP per capita for the year 2020. Go to the Python Graph Gallery (https://www.python-graph-gallery.com/) and look at the different types of plots under the Distribution section. Create a histogram, a density plot, a boxplot, and a violin plot. What do you notice when you look at these plots? How do the plots compare and what information can you get out of one type that you can't necessarily get out of the others?"
   ]
  },
  {
   "cell_type": "code",
   "execution_count": 63,
   "id": "08809603-5e71-4cca-a297-79a062185b4e",
   "metadata": {},
   "outputs": [],
   "source": [
    "graphs_2020 = gdp_df[gdp_df[\"Year\"] == 2020]"
   ]
  },
  {
   "cell_type": "code",
   "execution_count": 65,
   "id": "b6ffdab0-c410-4f37-99cf-0ee7f3330616",
   "metadata": {},
   "outputs": [
    {
     "data": {
      "text/html": [
       "<div>\n",
       "<style scoped>\n",
       "    .dataframe tbody tr th:only-of-type {\n",
       "        vertical-align: middle;\n",
       "    }\n",
       "\n",
       "    .dataframe tbody tr th {\n",
       "        vertical-align: top;\n",
       "    }\n",
       "\n",
       "    .dataframe thead th {\n",
       "        text-align: right;\n",
       "    }\n",
       "</style>\n",
       "<table border=\"1\" class=\"dataframe\">\n",
       "  <thead>\n",
       "    <tr style=\"text-align: right;\">\n",
       "      <th></th>\n",
       "      <th>Country</th>\n",
       "      <th>Year</th>\n",
       "      <th>GDP_Per_Capita</th>\n",
       "    </tr>\n",
       "  </thead>\n",
       "  <tbody>\n",
       "    <tr>\n",
       "      <th>3</th>\n",
       "      <td>Afghanistan</td>\n",
       "      <td>2020</td>\n",
       "      <td>2769.685745</td>\n",
       "    </tr>\n",
       "    <tr>\n",
       "      <th>27</th>\n",
       "      <td>Africa Eastern and Southern</td>\n",
       "      <td>2020</td>\n",
       "      <td>3861.111238</td>\n",
       "    </tr>\n",
       "    <tr>\n",
       "      <th>61</th>\n",
       "      <td>Africa Western and Central</td>\n",
       "      <td>2020</td>\n",
       "      <td>4622.731427</td>\n",
       "    </tr>\n",
       "    <tr>\n",
       "      <th>95</th>\n",
       "      <td>Albania</td>\n",
       "      <td>2020</td>\n",
       "      <td>14650.395929</td>\n",
       "    </tr>\n",
       "    <tr>\n",
       "      <th>129</th>\n",
       "      <td>Algeria</td>\n",
       "      <td>2020</td>\n",
       "      <td>14194.155748</td>\n",
       "    </tr>\n",
       "  </tbody>\n",
       "</table>\n",
       "</div>"
      ],
      "text/plain": [
       "                         Country  Year  GDP_Per_Capita\n",
       "3                    Afghanistan  2020     2769.685745\n",
       "27   Africa Eastern and Southern  2020     3861.111238\n",
       "61    Africa Western and Central  2020     4622.731427\n",
       "95                       Albania  2020    14650.395929\n",
       "129                      Algeria  2020    14194.155748"
      ]
     },
     "execution_count": 65,
     "metadata": {},
     "output_type": "execute_result"
    }
   ],
   "source": [
    "graphs_2020.head()"
   ]
  },
  {
   "cell_type": "code",
   "execution_count": 69,
   "id": "f00d1b51-a201-440a-8893-d10b8ce1c3ab",
   "metadata": {},
   "outputs": [
    {
     "data": {
      "text/plain": [
       "<Axes: xlabel='GDP_Per_Capita', ylabel='Count'>"
      ]
     },
     "execution_count": 69,
     "metadata": {},
     "output_type": "execute_result"
    },
    {
     "data": {
      "image/png": "[encoded data removed]",
      "text/plain": [
       "<Figure size 640x480 with 1 Axes>"
      ]
     },
     "metadata": {},
     "output_type": "display_data"
    }
   ],
   "source": [
    "sns.histplot(data=graphs_2020, x=\"GDP_Per_Capita\", kde=True)"
   ]
  },
  {
   "cell_type": "code",
   "execution_count": 71,
   "id": "cd958607-d3d6-41de-b355-f34a9be21f7a",
   "metadata": {},
   "outputs": [
    {
     "data": {
      "text/plain": [
       "<Axes: xlabel='GDP_Per_Capita', ylabel='Density'>"
      ]
     },
     "execution_count": 71,
     "metadata": {},
     "output_type": "execute_result"
    },
    {
     "data": {
      "image/png": "[encoded data removed]",
      "text/plain": [
       "<Figure size 640x480 with 1 Axes>"
      ]
     },
     "metadata": {},
     "output_type": "display_data"
    }
   ],
   "source": [
    "sns.kdeplot(data=graphs_2020, x=\"GDP_Per_Capita\")"
   ]
  },
  {
   "cell_type": "code",
   "execution_count": 73,
   "id": "e0fbeee2-fdc9-4fbf-932c-ff994c38c47e",
   "metadata": {},
   "outputs": [
    {
     "data": {
      "text/plain": [
       "<Axes: xlabel='GDP_Per_Capita'>"
      ]
     },
     "execution_count": 73,
     "metadata": {},
     "output_type": "execute_result"
    },
    {
     "data": {
      "image/png": "[encoded data removed]",
      "text/plain": [
       "<Figure size 640x480 with 1 Axes>"
      ]
     },
     "metadata": {},
     "output_type": "display_data"
    }
   ],
   "source": [
    "sns.boxplot(x=graphs_2020[\"GDP_Per_Capita\"])"
   ]
  },
  {
   "cell_type": "code",
   "execution_count": 75,
   "id": "37056617-63e3-4182-8c93-3762cc8902eb",
   "metadata": {},
   "outputs": [
    {
     "data": {
      "text/plain": [
       "<Axes: xlabel='GDP_Per_Capita'>"
      ]
     },
     "execution_count": 75,
     "metadata": {},
     "output_type": "execute_result"
    },
    {
     "data": {
      "image/png": "[encoded data removed]",
      "text/plain": [
       "<Figure size 640x480 with 1 Axes>"
      ]
     },
     "metadata": {},
     "output_type": "display_data"
    }
   ],
   "source": [
    "sns.violinplot(x=graphs_2020[\"GDP_Per_Capita\"])"
   ]
  },
  {
   "cell_type": "markdown",
   "id": "b741a366-bcd0-4abe-b722-0601ed73ed44",
   "metadata": {},
   "source": [
    "9. What was the median GDP per capita value in 2020?"
   ]
  },
  {
   "cell_type": "code",
   "execution_count": 83,
   "id": "a9ee0546-ca39-4364-8eef-3cc63c4386e6",
   "metadata": {},
   "outputs": [
    {
     "data": {
      "text/plain": [
       "15309.23598817024"
      ]
     },
     "execution_count": 83,
     "metadata": {},
     "output_type": "execute_result"
    }
   ],
   "source": [
    "graphs_2020[\"GDP_Per_Capita\"].median()"
   ]
  },
  {
   "cell_type": "markdown",
   "id": "d3183a55-75bd-4e7a-873a-3af6538feae5",
   "metadata": {},
   "source": [
    "10. For this question, you're going to create some visualizations to compare GDP per capita values for the years 1990, 2000, 2010, and 2020. Start by subsetting your data to just these 4 years into a new DataFrame named gdp_decades. Using this, create the following 4 plots:\n",
    "\t* A boxplot\n",
    "\t* A barplot (check out the Barplot with Seaborn section: https://www.python-graph-gallery.com/barplot/#Seaborn)\n",
    "\t* A scatterplot\n",
    "\t* A scatterplot with a trend line overlaid (see this regplot example: https://www.python-graph-gallery.com/42-custom-linear-regression-fit-seaborn)  \n",
    "Comment on what you observe has happened to GDP values over time and the relative strengths and weaknesses of each type of plot."
   ]
  },
  {
   "cell_type": "code",
   "execution_count": 91,
   "id": "1e4d863b-940a-4009-95c7-b6a32fcdee83",
   "metadata": {},
   "outputs": [],
   "source": [
    "gdp_decades = gdp_df[gdp_df[\"Year\"].isin([1990, 2000, 2010, 2020])]"
   ]
  },
  {
   "cell_type": "code",
   "execution_count": 93,
   "id": "d1f5d2c8-3c72-4f5d-a418-d3d2fad68205",
   "metadata": {},
   "outputs": [
    {
     "data": {
      "text/html": [
       "<div>\n",
       "<style scoped>\n",
       "    .dataframe tbody tr th:only-of-type {\n",
       "        vertical-align: middle;\n",
       "    }\n",
       "\n",
       "    .dataframe tbody tr th {\n",
       "        vertical-align: top;\n",
       "    }\n",
       "\n",
       "    .dataframe thead th {\n",
       "        text-align: right;\n",
       "    }\n",
       "</style>\n",
       "<table border=\"1\" class=\"dataframe\">\n",
       "  <thead>\n",
       "    <tr style=\"text-align: right;\">\n",
       "      <th></th>\n",
       "      <th>Country</th>\n",
       "      <th>Year</th>\n",
       "      <th>GDP_Per_Capita</th>\n",
       "    </tr>\n",
       "  </thead>\n",
       "  <tbody>\n",
       "    <tr>\n",
       "      <th>3</th>\n",
       "      <td>Afghanistan</td>\n",
       "      <td>2020</td>\n",
       "      <td>2769.685745</td>\n",
       "    </tr>\n",
       "    <tr>\n",
       "      <th>13</th>\n",
       "      <td>Afghanistan</td>\n",
       "      <td>2010</td>\n",
       "      <td>2848.586061</td>\n",
       "    </tr>\n",
       "    <tr>\n",
       "      <th>23</th>\n",
       "      <td>Afghanistan</td>\n",
       "      <td>2000</td>\n",
       "      <td>1617.826475</td>\n",
       "    </tr>\n",
       "    <tr>\n",
       "      <th>27</th>\n",
       "      <td>Africa Eastern and Southern</td>\n",
       "      <td>2020</td>\n",
       "      <td>3861.111238</td>\n",
       "    </tr>\n",
       "    <tr>\n",
       "      <th>37</th>\n",
       "      <td>Africa Eastern and Southern</td>\n",
       "      <td>2010</td>\n",
       "      <td>3863.836012</td>\n",
       "    </tr>\n",
       "  </tbody>\n",
       "</table>\n",
       "</div>"
      ],
      "text/plain": [
       "                        Country  Year  GDP_Per_Capita\n",
       "3                   Afghanistan  2020     2769.685745\n",
       "13                  Afghanistan  2010     2848.586061\n",
       "23                  Afghanistan  2000     1617.826475\n",
       "27  Africa Eastern and Southern  2020     3861.111238\n",
       "37  Africa Eastern and Southern  2010     3863.836012"
      ]
     },
     "execution_count": 93,
     "metadata": {},
     "output_type": "execute_result"
    }
   ],
   "source": [
    "gdp_decades.head()"
   ]
  },
  {
   "cell_type": "code",
   "execution_count": 99,
   "id": "fe1269b4-6505-4da3-8c33-fbc65de57d7f",
   "metadata": {},
   "outputs": [
    {
     "data": {
      "text/plain": [
       "<Axes: xlabel='Year', ylabel='GDP_Per_Capita'>"
      ]
     },
     "execution_count": 99,
     "metadata": {},
     "output_type": "execute_result"
    },
    {
     "data": {
      "image/png": "[encoded data removed]",
      "text/plain": [
       "<Figure size 640x480 with 1 Axes>"
      ]
     },
     "metadata": {},
     "output_type": "display_data"
    }
   ],
   "source": [
    "sns.boxplot(x=gdp_decades[\"Year\"], y=gdp_decades[\"GDP_Per_Capita\"])"
   ]
  },
  {
   "cell_type": "markdown",
   "id": "2926f88a-eabe-406e-9e60-f3505115d53e",
   "metadata": {},
   "source": [
    "11. Which country was the first to have a GDP per capita greater than $100,000?"
   ]
  },
  {
   "cell_type": "markdown",
   "id": "88ec8e24-6ea6-43b7-b01a-ee5cd2c0fe15",
   "metadata": {},
   "source": [
    "12. Which country had the highest GDP per capita in 2020? Create a plot showing how this country's GDP per capita has changed over the timespan of the dataset."
   ]
  },
  {
   "cell_type": "markdown",
   "id": "48f6b39d-5441-415f-9531-070207fe29ef",
   "metadata": {},
   "source": [
    "13. Which country had the lowest GDP per capita in 2020? Create a plot showing how this country's GDP per capita has changed over the timespan of the dataset. **Bonus question:** Is it true in general that coutries had a higher GDP per capita in 2020 than in 1990? Which countries had lower GDP per capita in 2020 than in 1990?"
   ]
  },
  {
   "cell_type": "markdown",
   "id": "8d06b201-8aa4-469c-b245-83c35293b2f1",
   "metadata": {},
   "source": [
    "14. Read in the internet use dataset into a DataFrame named `internet_df`. You will likely get errors when doing this. Check the arguments for the read_csv function to find ones that can help correct the errors (https://pandas.pydata.org/docs/reference/api/pandas.read_csv.html) Once you are able to read it in, take per a look at the top and bottom few rows to make sure that it has been read in correctly. Also, check the datatypes of the columns."
   ]
  },
  {
   "cell_type": "markdown",
   "id": "5587a807-ac9b-4ba9-89af-cd3553d2ef7d",
   "metadata": {},
   "source": [
    "15. Drop the `Value Footnotes` column and rename the remaining three to 'Country', 'Year', and 'Internet_Users_Pct'."
   ]
  },
  {
   "cell_type": "markdown",
   "id": "af20f906-ffb6-40fa-a591-6d0f209018d5",
   "metadata": {},
   "source": [
    "16. Look at the number of observations in this dataset per year. What do you notice?"
   ]
  },
  {
   "cell_type": "code",
   "execution_count": null,
   "id": "9da7fe96-97c6-4fe2-ae78-c77dcea469b3",
   "metadata": {},
   "outputs": [],
   "source": []
  }
 ],
 "metadata": {
  "kernelspec": {
   "display_name": "Python 3 (ipykernel)",
   "language": "python",
   "name": "python3"
  },
  "language_info": {
   "codemirror_mode": {
    "name": "ipython",
    "version": 3
   },
   "file_extension": ".py",
   "mimetype": "text/x-python",
   "name": "python",
   "nbconvert_exporter": "python",
   "pygments_lexer": "ipython3",
   "version": "3.12.7"
  }
 },
 "nbformat": 4,
 "nbformat_minor": 5
}
